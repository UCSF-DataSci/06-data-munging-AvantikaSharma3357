{
 "cells": [
  {
   "cell_type": "code",
   "execution_count": 3,
   "metadata": {},
   "outputs": [],
   "source": [
    "'''\n",
    "1. Load the messy dataset (\"messy_population_data.csv\") using Python with pandas.\n",
    "2. Perform an exploratory data analysis (EDA) to identify data quality issues.\n",
    "3. Document each issue you discover in your `readme.md`, including:\n",
    "   - Description of the issue\n",
    "   - Column(s) affected\n",
    "   - Example of the problematic data\n",
    "   - Potential impact on analysis if left uncleaned\n",
    "\n",
    "Use pandas functions like `info()`, `describe()`, `isnull().sum()`, `duplicated().sum()`, and `value_counts()` to aid your exploration. \n",
    "'''\n",
    "import pandas as pd\n",
    "import numpy as np\n",
    "\n"
   ]
  },
  {
   "cell_type": "code",
   "execution_count": 4,
   "metadata": {},
   "outputs": [],
   "source": [
    "rawdata = pd.read_csv(\"/Users/avantikasharma/06-data-munging-AvantikaSharma3357/messy_population_data.csv\")\n"
   ]
  },
  {
   "cell_type": "code",
   "execution_count": 5,
   "metadata": {},
   "outputs": [
    {
     "data": {
      "text/html": [
       "<div>\n",
       "<style scoped>\n",
       "    .dataframe tbody tr th:only-of-type {\n",
       "        vertical-align: middle;\n",
       "    }\n",
       "\n",
       "    .dataframe tbody tr th {\n",
       "        vertical-align: top;\n",
       "    }\n",
       "\n",
       "    .dataframe thead th {\n",
       "        text-align: right;\n",
       "    }\n",
       "</style>\n",
       "<table border=\"1\" class=\"dataframe\">\n",
       "  <thead>\n",
       "    <tr style=\"text-align: right;\">\n",
       "      <th></th>\n",
       "      <th>income_groups</th>\n",
       "      <th>age</th>\n",
       "      <th>gender</th>\n",
       "      <th>year</th>\n",
       "      <th>population</th>\n",
       "    </tr>\n",
       "  </thead>\n",
       "  <tbody>\n",
       "    <tr>\n",
       "      <th>0</th>\n",
       "      <td>high_income</td>\n",
       "      <td>0.0</td>\n",
       "      <td>1.0</td>\n",
       "      <td>1950.0</td>\n",
       "      <td>7798286.0</td>\n",
       "    </tr>\n",
       "    <tr>\n",
       "      <th>1</th>\n",
       "      <td>high_income</td>\n",
       "      <td>0.0</td>\n",
       "      <td>1.0</td>\n",
       "      <td>1951.0</td>\n",
       "      <td>7739711.0</td>\n",
       "    </tr>\n",
       "    <tr>\n",
       "      <th>2</th>\n",
       "      <td>high_income</td>\n",
       "      <td>0.0</td>\n",
       "      <td>3.0</td>\n",
       "      <td>1952.0</td>\n",
       "      <td>7713905.0</td>\n",
       "    </tr>\n",
       "    <tr>\n",
       "      <th>3</th>\n",
       "      <td>high_income</td>\n",
       "      <td>0.0</td>\n",
       "      <td>1.0</td>\n",
       "      <td>1953.0</td>\n",
       "      <td>7722053.0</td>\n",
       "    </tr>\n",
       "    <tr>\n",
       "      <th>4</th>\n",
       "      <td>high_income</td>\n",
       "      <td>0.0</td>\n",
       "      <td>1.0</td>\n",
       "      <td>1954.0</td>\n",
       "      <td>7756149.0</td>\n",
       "    </tr>\n",
       "  </tbody>\n",
       "</table>\n",
       "</div>"
      ],
      "text/plain": [
       "  income_groups  age  gender    year  population\n",
       "0   high_income  0.0     1.0  1950.0   7798286.0\n",
       "1   high_income  0.0     1.0  1951.0   7739711.0\n",
       "2   high_income  0.0     3.0  1952.0   7713905.0\n",
       "3   high_income  0.0     1.0  1953.0   7722053.0\n",
       "4   high_income  0.0     1.0  1954.0   7756149.0"
      ]
     },
     "execution_count": 5,
     "metadata": {},
     "output_type": "execute_result"
    }
   ],
   "source": [
    "rawdata.head()"
   ]
  },
  {
   "cell_type": "code",
   "execution_count": 6,
   "metadata": {},
   "outputs": [
    {
     "data": {
      "text/html": [
       "<div>\n",
       "<style scoped>\n",
       "    .dataframe tbody tr th:only-of-type {\n",
       "        vertical-align: middle;\n",
       "    }\n",
       "\n",
       "    .dataframe tbody tr th {\n",
       "        vertical-align: top;\n",
       "    }\n",
       "\n",
       "    .dataframe thead th {\n",
       "        text-align: right;\n",
       "    }\n",
       "</style>\n",
       "<table border=\"1\" class=\"dataframe\">\n",
       "  <thead>\n",
       "    <tr style=\"text-align: right;\">\n",
       "      <th></th>\n",
       "      <th>income_groups</th>\n",
       "      <th>age</th>\n",
       "      <th>gender</th>\n",
       "      <th>year</th>\n",
       "      <th>population</th>\n",
       "    </tr>\n",
       "  </thead>\n",
       "  <tbody>\n",
       "    <tr>\n",
       "      <th>125713</th>\n",
       "      <td>low_income</td>\n",
       "      <td>29.0</td>\n",
       "      <td>1.0</td>\n",
       "      <td>2115.0</td>\n",
       "      <td>16617821.0</td>\n",
       "    </tr>\n",
       "    <tr>\n",
       "      <th>125714</th>\n",
       "      <td>low_income</td>\n",
       "      <td>27.0</td>\n",
       "      <td>1.0</td>\n",
       "      <td>2108.0</td>\n",
       "      <td>4913711.0</td>\n",
       "    </tr>\n",
       "    <tr>\n",
       "      <th>125715</th>\n",
       "      <td>lower_middle_income</td>\n",
       "      <td>87.0</td>\n",
       "      <td>2.0</td>\n",
       "      <td>2105.0</td>\n",
       "      <td>3978771.0</td>\n",
       "    </tr>\n",
       "    <tr>\n",
       "      <th>125716</th>\n",
       "      <td>lower_middle_income</td>\n",
       "      <td>74.0</td>\n",
       "      <td>1.0</td>\n",
       "      <td>2110.0</td>\n",
       "      <td>9614177.0</td>\n",
       "    </tr>\n",
       "    <tr>\n",
       "      <th>125717</th>\n",
       "      <td>low_income</td>\n",
       "      <td>16.0</td>\n",
       "      <td>2.0</td>\n",
       "      <td>2111.0</td>\n",
       "      <td>9182705.0</td>\n",
       "    </tr>\n",
       "  </tbody>\n",
       "</table>\n",
       "</div>"
      ],
      "text/plain": [
       "              income_groups   age  gender    year  population\n",
       "125713           low_income  29.0     1.0  2115.0  16617821.0\n",
       "125714           low_income  27.0     1.0  2108.0   4913711.0\n",
       "125715  lower_middle_income  87.0     2.0  2105.0   3978771.0\n",
       "125716  lower_middle_income  74.0     1.0  2110.0   9614177.0\n",
       "125717           low_income  16.0     2.0  2111.0   9182705.0"
      ]
     },
     "execution_count": 6,
     "metadata": {},
     "output_type": "execute_result"
    }
   ],
   "source": [
    "rawdata.tail()"
   ]
  },
  {
   "cell_type": "code",
   "execution_count": 7,
   "metadata": {},
   "outputs": [
    {
     "name": "stdout",
     "output_type": "stream",
     "text": [
      "<class 'pandas.core.frame.DataFrame'>\n",
      "RangeIndex: 125718 entries, 0 to 125717\n",
      "Data columns (total 5 columns):\n",
      " #   Column         Non-Null Count   Dtype  \n",
      "---  ------         --------------   -----  \n",
      " 0   income_groups  119412 non-null  object \n",
      " 1   age            119495 non-null  float64\n",
      " 2   gender         119811 non-null  float64\n",
      " 3   year           119516 non-null  float64\n",
      " 4   population     119378 non-null  float64\n",
      "dtypes: float64(4), object(1)\n",
      "memory usage: 4.8+ MB\n"
     ]
    }
   ],
   "source": [
    "rawdata.info()"
   ]
  },
  {
   "cell_type": "code",
   "execution_count": 8,
   "metadata": {},
   "outputs": [
    {
     "name": "stdout",
     "output_type": "stream",
     "text": [
      "income_groups : 9\n",
      "age : 102\n",
      "gender : 4\n",
      "year : 170\n",
      "population : 114926\n"
     ]
    }
   ],
   "source": [
    "list(rawdata)\n",
    "for columns in list(rawdata):\n",
    "    print(columns, \":\", len(rawdata[columns].unique()))"
   ]
  },
  {
   "cell_type": "code",
   "execution_count": 9,
   "metadata": {},
   "outputs": [
    {
     "data": {
      "text/html": [
       "<div>\n",
       "<style scoped>\n",
       "    .dataframe tbody tr th:only-of-type {\n",
       "        vertical-align: middle;\n",
       "    }\n",
       "\n",
       "    .dataframe tbody tr th {\n",
       "        vertical-align: top;\n",
       "    }\n",
       "\n",
       "    .dataframe thead th {\n",
       "        text-align: right;\n",
       "    }\n",
       "</style>\n",
       "<table border=\"1\" class=\"dataframe\">\n",
       "  <thead>\n",
       "    <tr style=\"text-align: right;\">\n",
       "      <th></th>\n",
       "      <th>age</th>\n",
       "      <th>gender</th>\n",
       "      <th>year</th>\n",
       "      <th>population</th>\n",
       "    </tr>\n",
       "  </thead>\n",
       "  <tbody>\n",
       "    <tr>\n",
       "      <th>count</th>\n",
       "      <td>119495.000000</td>\n",
       "      <td>119811.000000</td>\n",
       "      <td>119516.000000</td>\n",
       "      <td>1.193780e+05</td>\n",
       "    </tr>\n",
       "    <tr>\n",
       "      <th>mean</th>\n",
       "      <td>50.007038</td>\n",
       "      <td>1.578578</td>\n",
       "      <td>2025.068049</td>\n",
       "      <td>1.112983e+08</td>\n",
       "    </tr>\n",
       "    <tr>\n",
       "      <th>std</th>\n",
       "      <td>29.154144</td>\n",
       "      <td>0.590559</td>\n",
       "      <td>43.584951</td>\n",
       "      <td>1.265205e+09</td>\n",
       "    </tr>\n",
       "    <tr>\n",
       "      <th>min</th>\n",
       "      <td>0.000000</td>\n",
       "      <td>1.000000</td>\n",
       "      <td>1950.000000</td>\n",
       "      <td>2.100000e+01</td>\n",
       "    </tr>\n",
       "    <tr>\n",
       "      <th>25%</th>\n",
       "      <td>25.000000</td>\n",
       "      <td>1.000000</td>\n",
       "      <td>1987.000000</td>\n",
       "      <td>2.316023e+06</td>\n",
       "    </tr>\n",
       "    <tr>\n",
       "      <th>50%</th>\n",
       "      <td>50.000000</td>\n",
       "      <td>2.000000</td>\n",
       "      <td>2025.000000</td>\n",
       "      <td>7.145754e+06</td>\n",
       "    </tr>\n",
       "    <tr>\n",
       "      <th>75%</th>\n",
       "      <td>75.000000</td>\n",
       "      <td>2.000000</td>\n",
       "      <td>2063.000000</td>\n",
       "      <td>1.466388e+07</td>\n",
       "    </tr>\n",
       "    <tr>\n",
       "      <th>max</th>\n",
       "      <td>100.000000</td>\n",
       "      <td>3.000000</td>\n",
       "      <td>2119.000000</td>\n",
       "      <td>3.293043e+10</td>\n",
       "    </tr>\n",
       "  </tbody>\n",
       "</table>\n",
       "</div>"
      ],
      "text/plain": [
       "                 age         gender           year    population\n",
       "count  119495.000000  119811.000000  119516.000000  1.193780e+05\n",
       "mean       50.007038       1.578578    2025.068049  1.112983e+08\n",
       "std        29.154144       0.590559      43.584951  1.265205e+09\n",
       "min         0.000000       1.000000    1950.000000  2.100000e+01\n",
       "25%        25.000000       1.000000    1987.000000  2.316023e+06\n",
       "50%        50.000000       2.000000    2025.000000  7.145754e+06\n",
       "75%        75.000000       2.000000    2063.000000  1.466388e+07\n",
       "max       100.000000       3.000000    2119.000000  3.293043e+10"
      ]
     },
     "execution_count": 9,
     "metadata": {},
     "output_type": "execute_result"
    }
   ],
   "source": [
    "rawdata.describe()"
   ]
  },
  {
   "cell_type": "code",
   "execution_count": 10,
   "metadata": {},
   "outputs": [
    {
     "data": {
      "text/plain": [
       "income_groups    6306\n",
       "age              6223\n",
       "gender           5907\n",
       "year             6202\n",
       "population       6340\n",
       "dtype: int64"
      ]
     },
     "execution_count": 10,
     "metadata": {},
     "output_type": "execute_result"
    }
   ],
   "source": [
    "rawdata.isnull().sum()"
   ]
  },
  {
   "cell_type": "code",
   "execution_count": 29,
   "metadata": {},
   "outputs": [
    {
     "data": {
      "text/plain": [
       "np.int64(2182)"
      ]
     },
     "execution_count": 29,
     "metadata": {},
     "output_type": "execute_result"
    }
   ],
   "source": [
    "rawdata.duplicated().sum()"
   ]
  },
  {
   "cell_type": "code",
   "execution_count": 12,
   "metadata": {},
   "outputs": [
    {
     "data": {
      "text/plain": [
       "income_groups             age   gender  year    population \n",
       "high_income               18.0  2.0     1969.0  7139540.0      3\n",
       "                          19.0  2.0     2027.0  7172036.0      3\n",
       "                          37.0  1.0     2053.0  8635195.0      3\n",
       "                          45.0  2.0     2016.0  8391024.0      3\n",
       "                          46.0  1.0     2003.0  7893866.0      3\n",
       "                                                              ..\n",
       "upper_middle_income_typo  98.0  2.0     2009.0  42613.0        1\n",
       "                                        2083.0  2261647.0      1\n",
       "                                        2091.0  2469639.0      1\n",
       "                                        2098.0  255352600.0    1\n",
       "high_income               0.0   1.0     1973.0  7622554.0      1\n",
       "Name: count, Length: 95425, dtype: int64"
      ]
     },
     "execution_count": 12,
     "metadata": {},
     "output_type": "execute_result"
    }
   ],
   "source": [
    "rawdata.value_counts()"
   ]
  },
  {
   "cell_type": "code",
   "execution_count": 13,
   "metadata": {},
   "outputs": [
    {
     "name": "stdout",
     "output_type": "stream",
     "text": [
      "high_income\n",
      "nan\n",
      "high_income_typo\n",
      "low_income\n",
      "low_income_typo\n",
      "lower_middle_income\n",
      "lower_middle_income_typo\n",
      "upper_middle_income_typo\n",
      "upper_middle_income\n"
     ]
    }
   ],
   "source": [
    "for value in rawdata[\"income_groups\"].unique():\n",
    "    print(value)"
   ]
  },
  {
   "cell_type": "code",
   "execution_count": 14,
   "metadata": {},
   "outputs": [
    {
     "name": "stdout",
     "output_type": "stream",
     "text": [
      "high_income : 28343\n",
      "percentage :  0.23735470471979367\n",
      "nan : 0\n",
      "percentage :  0.0\n",
      "high_income_typo : 1475\n",
      "percentage :  0.012352192409473085\n",
      "low_income : 28433\n",
      "percentage :  0.2381083978159649\n",
      "low_income_typo : 1505\n",
      "percentage :  0.012603423441530164\n",
      "lower_middle_income : 28323\n",
      "percentage :  0.23718721736508894\n",
      "lower_middle_income_typo : 1517\n",
      "percentage :  0.012703915854352996\n",
      "upper_middle_income_typo : 1462\n",
      "percentage :  0.012243325628915017\n",
      "upper_middle_income : 28354\n",
      "percentage :  0.23744682276488124\n"
     ]
    }
   ],
   "source": [
    "for value in rawdata[\"income_groups\"].unique():\n",
    "    print(value,\":\", sum(rawdata[\"income_groups\"]== value))\n",
    "    print(\"percentage : \", sum(rawdata[\"income_groups\"]== value)/119412)"
   ]
  },
  {
   "cell_type": "code",
   "execution_count": 15,
   "metadata": {},
   "outputs": [
    {
     "name": "stdout",
     "output_type": "stream",
     "text": [
      "1.0 : 56777\n",
      "3.0 : 6286\n",
      "nan : 0\n",
      "2.0 : 56748\n"
     ]
    }
   ],
   "source": [
    "for value in rawdata[\"gender\"].unique():\n",
    "    print(value, \":\", sum(rawdata[\"gender\"]== value))"
   ]
  },
  {
   "cell_type": "code",
   "execution_count": 16,
   "metadata": {},
   "outputs": [
    {
     "name": "stdout",
     "output_type": "stream",
     "text": [
      "[  0.  nan   1.  10. 100.  11.  12.  13.  14.  15.  16.  17.  18.  19.\n",
      "   2.  20.  21.  22.  23.  24.  25.  26.  27.  28.  29.   3.  30.  31.\n",
      "  32.  33.  34.  35.  36.  37.  38.  39.   4.  40.  41.  42.  43.  44.\n",
      "  45.  46.  47.  48.  49.   5.  50.  51.  52.  53.  54.  55.  56.  57.\n",
      "  58.  59.   6.  60.  61.  62.  63.  64.  65.  66.  67.  68.  69.   7.\n",
      "  70.  71.  72.  73.  74.  75.  76.  77.  78.  79.   8.  80.  81.  82.\n",
      "  83.  84.  85.  86.  87.  88.  89.   9.  90.  91.  92.  93.  94.  95.\n",
      "  96.  97.  98.  99.]\n"
     ]
    }
   ],
   "source": [
    "print(rawdata[\"age\"].unique())"
   ]
  },
  {
   "cell_type": "code",
   "execution_count": 17,
   "metadata": {},
   "outputs": [
    {
     "name": "stdout",
     "output_type": "stream",
     "text": [
      "{np.float64(0.0): 1175, np.float64(nan): 0, np.float64(1.0): 1173, np.float64(10.0): 1190, np.float64(100.0): 1174, np.float64(11.0): 1187, np.float64(12.0): 1205, np.float64(13.0): 1167, np.float64(14.0): 1173, np.float64(15.0): 1182, np.float64(16.0): 1184, np.float64(17.0): 1184, np.float64(18.0): 1185, np.float64(19.0): 1178, np.float64(2.0): 1173, np.float64(20.0): 1175, np.float64(21.0): 1163, np.float64(22.0): 1189, np.float64(23.0): 1185, np.float64(24.0): 1194, np.float64(25.0): 1183, np.float64(26.0): 1190, np.float64(27.0): 1193, np.float64(28.0): 1187, np.float64(29.0): 1189, np.float64(3.0): 1190, np.float64(30.0): 1202, np.float64(31.0): 1211, np.float64(32.0): 1181, np.float64(33.0): 1183, np.float64(34.0): 1186, np.float64(35.0): 1176, np.float64(36.0): 1181, np.float64(37.0): 1180, np.float64(38.0): 1190, np.float64(39.0): 1192, np.float64(4.0): 1173, np.float64(40.0): 1172, np.float64(41.0): 1170, np.float64(42.0): 1167, np.float64(43.0): 1183, np.float64(44.0): 1195, np.float64(45.0): 1191, np.float64(46.0): 1179, np.float64(47.0): 1182, np.float64(48.0): 1198, np.float64(49.0): 1190, np.float64(5.0): 1195, np.float64(50.0): 1181, np.float64(51.0): 1190, np.float64(52.0): 1182, np.float64(53.0): 1201, np.float64(54.0): 1181, np.float64(55.0): 1187, np.float64(56.0): 1196, np.float64(57.0): 1188, np.float64(58.0): 1160, np.float64(59.0): 1177, np.float64(6.0): 1184, np.float64(60.0): 1170, np.float64(61.0): 1183, np.float64(62.0): 1179, np.float64(63.0): 1180, np.float64(64.0): 1193, np.float64(65.0): 1193, np.float64(66.0): 1181, np.float64(67.0): 1169, np.float64(68.0): 1172, np.float64(69.0): 1172, np.float64(7.0): 1168, np.float64(70.0): 1170, np.float64(71.0): 1167, np.float64(72.0): 1182, np.float64(73.0): 1182, np.float64(74.0): 1179, np.float64(75.0): 1185, np.float64(76.0): 1175, np.float64(77.0): 1196, np.float64(78.0): 1164, np.float64(79.0): 1191, np.float64(8.0): 1181, np.float64(80.0): 1173, np.float64(81.0): 1186, np.float64(82.0): 1175, np.float64(83.0): 1197, np.float64(84.0): 1179, np.float64(85.0): 1179, np.float64(86.0): 1180, np.float64(87.0): 1184, np.float64(88.0): 1191, np.float64(89.0): 1176, np.float64(9.0): 1181, np.float64(90.0): 1183, np.float64(91.0): 1202, np.float64(92.0): 1184, np.float64(93.0): 1193, np.float64(94.0): 1182, np.float64(95.0): 1191, np.float64(96.0): 1191, np.float64(97.0): 1194, np.float64(98.0): 1178, np.float64(99.0): 1192}\n"
     ]
    }
   ],
   "source": [
    "unique_data = rawdata[\"age\"].unique()\n",
    "sums={}\n",
    "for age in unique_data:\n",
    "    sums[age]= sum(rawdata[\"age\"]==age)\n",
    "print(sums)"
   ]
  },
  {
   "cell_type": "code",
   "execution_count": 18,
   "metadata": {},
   "outputs": [
    {
     "name": "stdout",
     "output_type": "stream",
     "text": [
      "<class 'pandas.core.frame.DataFrame'>\n",
      "RangeIndex: 125718 entries, 0 to 125717\n",
      "Data columns (total 5 columns):\n",
      " #   Column         Non-Null Count   Dtype  \n",
      "---  ------         --------------   -----  \n",
      " 0   income_groups  119412 non-null  object \n",
      " 1   age            119495 non-null  float64\n",
      " 2   gender         119811 non-null  float64\n",
      " 3   year           119516 non-null  float64\n",
      " 4   population     119378 non-null  float64\n",
      "dtypes: float64(4), object(1)\n",
      "memory usage: 4.8+ MB\n",
      "None\n",
      "                 age         gender           year    population\n",
      "count  119495.000000  119811.000000  119516.000000  1.193780e+05\n",
      "mean       50.007038       1.578578    2025.068049  1.112983e+08\n",
      "std        29.154144       0.590559      43.584951  1.265205e+09\n",
      "min         0.000000       1.000000    1950.000000  2.100000e+01\n",
      "25%        25.000000       1.000000    1987.000000  2.316023e+06\n",
      "50%        50.000000       2.000000    2025.000000  7.145754e+06\n",
      "75%        75.000000       2.000000    2063.000000  1.466388e+07\n",
      "max       100.000000       3.000000    2119.000000  3.293043e+10\n"
     ]
    }
   ],
   "source": [
    "print(rawdata.info())\n",
    "print(rawdata.describe())\n",
    "\n",
    "rawdata = rawdata.drop(rawdata[rawdata[\"gender\"]== 3.0].index)\n"
   ]
  },
  {
   "cell_type": "code",
   "execution_count": 19,
   "metadata": {},
   "outputs": [
    {
     "name": "stdout",
     "output_type": "stream",
     "text": [
      "<class 'pandas.core.frame.DataFrame'>\n",
      "Index: 119432 entries, 0 to 125717\n",
      "Data columns (total 5 columns):\n",
      " #   Column         Non-Null Count   Dtype  \n",
      "---  ------         --------------   -----  \n",
      " 0   income_groups  113419 non-null  object \n",
      " 1   age            113543 non-null  float64\n",
      " 2   gender         113525 non-null  float64\n",
      " 3   year           113528 non-null  float64\n",
      " 4   population     113406 non-null  float64\n",
      "dtypes: float64(4), object(1)\n",
      "memory usage: 5.5+ MB\n",
      "None\n",
      "                 age         gender           year    population\n",
      "count  113543.000000  113525.000000  113528.000000  1.134060e+05\n",
      "mean       49.998758       1.499872    2025.024232  1.112528e+08\n",
      "std        29.146757       0.500002      43.583356  1.266380e+09\n",
      "min         0.000000       1.000000    1950.000000  2.100000e+01\n",
      "25%        25.000000       1.000000    1987.000000  2.309770e+06\n",
      "50%        50.000000       1.000000    2025.000000  7.143632e+06\n",
      "75%        75.000000       2.000000    2063.000000  1.466032e+07\n",
      "max       100.000000       2.000000    2119.000000  3.293043e+10\n"
     ]
    }
   ],
   "source": [
    "print(rawdata.info())\n",
    "print(rawdata.describe()) "
   ]
  },
  {
   "cell_type": "code",
   "execution_count": 20,
   "metadata": {},
   "outputs": [
    {
     "name": "stdout",
     "output_type": "stream",
     "text": [
      "1.0 : 56777\n",
      "nan : 0\n",
      "2.0 : 56748\n"
     ]
    }
   ],
   "source": [
    "for value in rawdata[\"gender\"].unique():\n",
    "    print(value, \":\", sum(rawdata[\"gender\"]== value))"
   ]
  },
  {
   "cell_type": "code",
   "execution_count": 21,
   "metadata": {},
   "outputs": [
    {
     "name": "stdout",
     "output_type": "stream",
     "text": [
      "<class 'pandas.core.frame.DataFrame'>\n",
      "Index: 92512 entries, 0 to 125717\n",
      "Data columns (total 5 columns):\n",
      " #   Column         Non-Null Count  Dtype  \n",
      "---  ------         --------------  -----  \n",
      " 0   income_groups  92512 non-null  object \n",
      " 1   age            92512 non-null  float64\n",
      " 2   gender         92512 non-null  float64\n",
      " 3   year           92512 non-null  float64\n",
      " 4   population     92512 non-null  float64\n",
      "dtypes: float64(4), object(1)\n",
      "memory usage: 4.2+ MB\n",
      "None\n",
      "                age        gender          year    population\n",
      "count  92512.000000  92512.000000  92512.000000  9.251200e+04\n",
      "mean      50.034871      1.500876   2025.083341  1.120045e+08\n",
      "std       29.153472      0.500002     43.552705  1.270395e+09\n",
      "min        0.000000      1.000000   1950.000000  2.200000e+01\n",
      "25%       25.000000      1.000000   1987.000000  2.308390e+06\n",
      "50%       50.000000      2.000000   2025.000000  7.152768e+06\n",
      "75%       75.000000      2.000000   2063.000000  1.468286e+07\n",
      "max      100.000000      2.000000   2119.000000  3.293043e+10\n"
     ]
    }
   ],
   "source": [
    "rawdata = rawdata.dropna()\n",
    "print(rawdata.info())\n",
    "print(rawdata.describe()) "
   ]
  },
  {
   "cell_type": "code",
   "execution_count": 22,
   "metadata": {},
   "outputs": [
    {
     "data": {
      "text/plain": [
       "income_groups    0\n",
       "age              0\n",
       "gender           0\n",
       "year             0\n",
       "population       0\n",
       "dtype: int64"
      ]
     },
     "execution_count": 22,
     "metadata": {},
     "output_type": "execute_result"
    }
   ],
   "source": [
    "rawdata.isnull().sum()"
   ]
  },
  {
   "cell_type": "code",
   "execution_count": 23,
   "metadata": {},
   "outputs": [
    {
     "name": "stdout",
     "output_type": "stream",
     "text": [
      "<class 'pandas.core.frame.DataFrame'>\n",
      "Index: 82450 entries, 906 to 125717\n",
      "Data columns (total 5 columns):\n",
      " #   Column         Non-Null Count  Dtype  \n",
      "---  ------         --------------  -----  \n",
      " 0   income_groups  82450 non-null  object \n",
      " 1   age            82450 non-null  float64\n",
      " 2   gender         82450 non-null  float64\n",
      " 3   year           82450 non-null  float64\n",
      " 4   population     82450 non-null  float64\n",
      "dtypes: float64(4), object(1)\n",
      "memory usage: 3.8+ MB\n",
      "None\n",
      "               age        gender          year    population\n",
      "count  82450.00000  82450.000000  82450.000000  8.245000e+04\n",
      "mean      55.52980      1.501019   2025.108939  9.941250e+07\n",
      "std       25.97717      0.500002     43.542682  1.162277e+09\n",
      "min       11.00000      1.000000   1950.000000  2.200000e+01\n",
      "25%       33.00000      1.000000   1987.000000  1.774970e+06\n",
      "50%       56.00000      2.000000   2025.000000  6.843176e+06\n",
      "75%       78.00000      2.000000   2063.000000  1.324970e+07\n",
      "max      100.00000      2.000000   2119.000000  3.218242e+10\n"
     ]
    }
   ],
   "source": [
    "for drop_age in [0.0,1.0,2.0,3.0,4.0,5.0,6.0,7.0,8.0,9.0,10.0]:\n",
    "    rawdata = rawdata.drop(rawdata[rawdata[\"age\"]== drop_age].index)\n",
    "\n",
    "print(rawdata.info())\n",
    "print(rawdata.describe()) "
   ]
  },
  {
   "cell_type": "code",
   "execution_count": 25,
   "metadata": {},
   "outputs": [
    {
     "name": "stdout",
     "output_type": "stream",
     "text": [
      "high_income : 19594\n",
      "percentage :  0.2376470588235294\n",
      "high_income_typo : 1033\n",
      "percentage :  0.012528805336567616\n",
      "low_income : 19621\n",
      "percentage :  0.23797453001819285\n",
      "low_income_typo : 1050\n",
      "percentage :  0.012734990903577926\n",
      "lower_middle_income : 19569\n",
      "percentage :  0.2373438447543966\n",
      "lower_middle_income_typo : 1038\n",
      "percentage :  0.012589448150394178\n",
      "upper_middle_income : 19539\n",
      "percentage :  0.23697998787143723\n",
      "upper_middle_income_typo : 1006\n",
      "percentage :  0.012201334141904184\n"
     ]
    }
   ],
   "source": [
    "for value in rawdata[\"income_groups\"].unique():\n",
    "    print(value,\":\", sum(rawdata[\"income_groups\"]== value))\n",
    "    print(\"percentage : \", sum(rawdata[\"income_groups\"]== value)/82450)"
   ]
  },
  {
   "cell_type": "code",
   "execution_count": 26,
   "metadata": {},
   "outputs": [
    {
     "name": "stdout",
     "output_type": "stream",
     "text": [
      "high_income : 20627\n",
      "percentage :  0.250175864160097\n",
      "low_income : 20671\n",
      "percentage :  0.2507095209217708\n",
      "lower_middle_income : 20607\n",
      "percentage :  0.24993329290479077\n",
      "upper_middle_income : 20545\n",
      "percentage :  0.24918132201334142\n"
     ]
    }
   ],
   "source": [
    "typo_correction = {\n",
    "    \"high_income_typo\":\"high_income\", \n",
    "    \"low_income_typo\":\"low_income\", \n",
    "    \"lower_middle_income_typo\":\"lower_middle_income\", \n",
    "    \"upper_middle_income_typo\":\"upper_middle_income\"\n",
    "}\n",
    "\n",
    "rawdata[\"income_groups\"]=rawdata[\"income_groups\"].replace(typo_correction)\n",
    "\n",
    "for value in rawdata[\"income_groups\"].unique():\n",
    "    print(value,\":\", sum(rawdata[\"income_groups\"]== value))\n",
    "    print(\"percentage : \", sum(rawdata[\"income_groups\"]== value)/82450)\n",
    "    \n",
    "\n",
    "\n"
   ]
  },
  {
   "cell_type": "code",
   "execution_count": 27,
   "metadata": {},
   "outputs": [
    {
     "name": "stdout",
     "output_type": "stream",
     "text": [
      "<class 'pandas.core.frame.DataFrame'>\n",
      "Index: 82450 entries, 906 to 125717\n",
      "Data columns (total 5 columns):\n",
      " #   Column         Non-Null Count  Dtype  \n",
      "---  ------         --------------  -----  \n",
      " 0   income_groups  82450 non-null  object \n",
      " 1   age            82450 non-null  float64\n",
      " 2   gender         82450 non-null  float64\n",
      " 3   year           82450 non-null  float64\n",
      " 4   population     82450 non-null  float64\n",
      "dtypes: float64(4), object(1)\n",
      "memory usage: 3.8+ MB\n",
      "None\n",
      "               age        gender          year    population\n",
      "count  82450.00000  82450.000000  82450.000000  8.245000e+04\n",
      "mean      55.52980      1.501019   2025.108939  9.941250e+07\n",
      "std       25.97717      0.500002     43.542682  1.162277e+09\n",
      "min       11.00000      1.000000   1950.000000  2.200000e+01\n",
      "25%       33.00000      1.000000   1987.000000  1.774970e+06\n",
      "50%       56.00000      2.000000   2025.000000  6.843176e+06\n",
      "75%       78.00000      2.000000   2063.000000  1.324970e+07\n",
      "max      100.00000      2.000000   2119.000000  3.218242e+10\n"
     ]
    }
   ],
   "source": [
    "print(rawdata.info())\n",
    "print(rawdata.describe()) "
   ]
  },
  {
   "cell_type": "code",
   "execution_count": 28,
   "metadata": {},
   "outputs": [
    {
     "name": "stdout",
     "output_type": "stream",
     "text": [
      "<class 'pandas.core.frame.DataFrame'>\n",
      "RangeIndex: 80268 entries, 0 to 80267\n",
      "Data columns (total 5 columns):\n",
      " #   Column         Non-Null Count  Dtype  \n",
      "---  ------         --------------  -----  \n",
      " 0   income_groups  80268 non-null  object \n",
      " 1   age            80268 non-null  float64\n",
      " 2   gender         80268 non-null  float64\n",
      " 3   year           80268 non-null  float64\n",
      " 4   population     80268 non-null  float64\n",
      "dtypes: float64(4), object(1)\n",
      "memory usage: 3.1+ MB\n",
      "None\n",
      "                age        gender          year    population\n",
      "count  80268.000000  80268.000000  80268.000000  8.026800e+04\n",
      "mean      55.520282      1.500934   2025.106630  1.018876e+08\n",
      "std       25.975358      0.500002     43.558664  1.177870e+09\n",
      "min       11.000000      1.000000   1950.000000  2.200000e+01\n",
      "25%       33.000000      1.000000   1987.000000  1.781476e+06\n",
      "50%       56.000000      2.000000   2025.000000  6.848320e+06\n",
      "75%       78.000000      2.000000   2063.000000  1.328162e+07\n",
      "max      100.000000      2.000000   2119.000000  3.218242e+10\n"
     ]
    }
   ],
   "source": [
    "cleaned_data= rawdata.drop_duplicates().reset_index(drop=True)\n",
    "print(cleaned_data.info())\n",
    "print(cleaned_data.describe()) "
   ]
  },
  {
   "cell_type": "code",
   "execution_count": null,
   "metadata": {},
   "outputs": [],
   "source": []
  },
  {
   "cell_type": "code",
   "execution_count": null,
   "metadata": {},
   "outputs": [],
   "source": []
  }
 ],
 "metadata": {
  "kernelspec": {
   "display_name": "assignment6_env",
   "language": "python",
   "name": "python3"
  },
  "language_info": {
   "codemirror_mode": {
    "name": "ipython",
    "version": 3
   },
   "file_extension": ".py",
   "mimetype": "text/x-python",
   "name": "python",
   "nbconvert_exporter": "python",
   "pygments_lexer": "ipython3",
   "version": "3.12.6"
  }
 },
 "nbformat": 4,
 "nbformat_minor": 2
}
